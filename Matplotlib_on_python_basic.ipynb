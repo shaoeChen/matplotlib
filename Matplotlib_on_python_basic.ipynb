{
 "cells": [
  {
   "cell_type": "markdown",
   "metadata": {},
   "source": [
    "## 載入需求套件  \n",
    "下面三個套件是在python上不可或缺的好幫手。  "
   ]
  },
  {
   "cell_type": "code",
   "execution_count": 1,
   "metadata": {
    "collapsed": true
   },
   "outputs": [],
   "source": [
    "import pandas as pd\n",
    "import numpy as np\n",
    "import matplotlib.pyplot as plt\n",
    "\n",
    "#  語法糖，不用每次都plt.show()來呈現圖表\n",
    "%matplotlib inline"
   ]
  },
  {
   "cell_type": "markdown",
   "metadata": {},
   "source": [
    "## 產生資料集\n",
    "產生資料集的方式有很多種，透過numpy或是利用sklearn的dataset，像在下分享的[KNN](https://github.com/shaoeChen/sklearn_api_resource/blob/master/sklearn_api/classification/KNearestNeighbors.ipynb)即是利用`sklearn.datasets.samples_generator`來產生資料集"
   ]
  },
  {
   "cell_type": "code",
   "execution_count": 3,
   "metadata": {
    "collapsed": true
   },
   "outputs": [],
   "source": [
    "#  利用numpy產生500個資料集\n",
    "#  numpy.random.normal:產生正態分佈的資料集\n",
    "n = 500\n",
    "x = np.random.normal(0,1,n)\n",
    "y = np.random.normal(0,1,n)\n",
    "t = np.arctan2(y,x)"
   ]
  },
  {
   "cell_type": "code",
   "execution_count": 7,
   "metadata": {
    "collapsed": true
   },
   "outputs": [],
   "source": [
    "#  產生sin的圖形\n",
    "x = np.arange(0.0, 2.0, 0.1)\n",
    "y = np.sin(t * np.pi)"
   ]
  },
  {
   "cell_type": "code",
   "execution_count": 8,
   "metadata": {
    "collapsed": true
   },
   "outputs": [],
   "source": [
    "#  簡單就好\n",
    "x = [1, 2, 3, 4, 5, 6, 7, 8]\n",
    "y = [8, 7, 6, 5, 4, 3, 2, 1]"
   ]
  },
  {
   "cell_type": "markdown",
   "metadata": {},
   "source": [
    "## 圖表設置\n",
    "1. legend也可以設置loc='best'讓程式自行判斷。  \n",
    "2. 如果擔心有資料無法呈現的話，可利用plt.tight_layout()來保證所有元素都會出現圖表上\n",
    "3. 想保存圖表的時候可以此表達式執行plt.savefig('aaa.格式')"
   ]
  },
  {
   "cell_type": "code",
   "execution_count": 12,
   "metadata": {},
   "outputs": [
    {
     "data": {
      "image/png": "[encoded data removed]",
      "text/plain": [
       "<matplotlib.figure.Figure at 0x19919b7e0b8>"
      ]
     },
     "metadata": {},
     "output_type": "display_data"
    }
   ],
   "source": [
    "plt.scatter(x,\n",
    "            y, \n",
    "            label='Test', \n",
    "            color='red', \n",
    "            s=25,     \n",
    "            marker=\"o\")\n",
    "plt.xlim(0,10)  #  x軸的座標軸範圍\n",
    "plt.ylim(0,10)  #  y軸的座標軸範圍\n",
    "plt.xlabel('xlabel')  #  產生x軸的標籤\n",
    "plt.ylabel('ylabel')  #  產生y軸的標籤\n",
    "plt.title('Title')  #  產生圖面的標題\n",
    "plt.legend(loc='upper right')  #  圖標_右上那個test\n",
    "plt.grid()  #  顯示網格\n",
    "plt.show()  #  產生圖面"
   ]
  },
  {
   "cell_type": "code",
   "execution_count": 13,
   "metadata": {},
   "outputs": [
    {
     "data": {
      "image/png": "[encoded data removed]",
      "text/plain": [
       "<matplotlib.figure.Figure at 0x19919fad630>"
      ]
     },
     "metadata": {},
     "output_type": "display_data"
    }
   ],
   "source": [
    "#  測試xlim、ylim為5，圖表無法正確顯示了\n",
    "plt.scatter(x,\n",
    "            y, \n",
    "            label='Test', \n",
    "            color='red', \n",
    "            s=25,     \n",
    "            marker=\"o\")\n",
    "plt.xlim(0,5)  #  x軸的座標軸範圍\n",
    "plt.ylim(0,5)  #  y軸的座標軸範圍\n",
    "plt.xlabel('xlabel')  #  產生x軸的標籤\n",
    "plt.ylabel('ylabel')  #  產生y軸的標籤\n",
    "plt.title('Title')  #  產生圖面的標題\n",
    "plt.legend(loc='upper right')  #  圖標_右上那個test\n",
    "plt.grid()  #  顯示網格\n",
    "plt.show()  #  產生圖面"
   ]
  },
  {
   "cell_type": "code",
   "execution_count": 14,
   "metadata": {},
   "outputs": [
    {
     "data": {
      "image/png": "[encoded data removed]",
      "text/plain": [
       "<matplotlib.figure.Figure at 0x19919fad1d0>"
      ]
     },
     "metadata": {},
     "output_type": "display_data"
    }
   ],
   "source": [
    "#  或是不設置xlim、ylim讓系統自帶也可以\n",
    "plt.scatter(x,\n",
    "            y, \n",
    "            label='Test', \n",
    "            color='red', \n",
    "            s=25,     \n",
    "            marker=\"o\")\n",
    "# plt.xlim(0,5)  #  x軸的座標軸範圍\n",
    "# plt.ylim(0,5)  #  y軸的座標軸範圍\n",
    "plt.xlabel('xlabel')  #  產生x軸的標籤\n",
    "plt.ylabel('ylabel')  #  產生y軸的標籤\n",
    "plt.title('Title')  #  產生圖面的標題\n",
    "plt.legend(loc='upper right')  #  圖標_右上那個test\n",
    "plt.grid()  #  顯示網格\n",
    "plt.show()  #  產生圖面"
   ]
  },
  {
   "cell_type": "code",
   "execution_count": 15,
   "metadata": {},
   "outputs": [
    {
     "data": {
      "image/png": "[encoded data removed]",
      "text/plain": [
       "<matplotlib.figure.Figure at 0x1991a940b38>"
      ]
     },
     "metadata": {},
     "output_type": "display_data"
    }
   ],
   "source": [
    "#  不過個人比較喜歡最大值加1來做一個留白\n",
    "#  或是不設置xlim、ylim讓系統自帶也可以\n",
    "plt.scatter(x,\n",
    "            y, \n",
    "            label='Test', \n",
    "            color='red', \n",
    "            s=25,     \n",
    "            marker=\"o\")\n",
    "plt.xlim(0,max(x)+1)  #  x軸的座標軸範圍\n",
    "plt.ylim(0,max(y)+1)  #  y軸的座標軸範圍\n",
    "plt.xlabel('xlabel')  #  產生x軸的標籤\n",
    "plt.ylabel('ylabel')  #  產生y軸的標籤\n",
    "plt.title('Title')  #  產生圖面的標題\n",
    "plt.legend(loc='upper right')  #  圖標_右上那個test\n",
    "\n",
    "plt.grid()  #  顯示網格\n",
    "plt.show()  #  產生圖面"
   ]
  },
  {
   "cell_type": "code",
   "execution_count": 18,
   "metadata": {},
   "outputs": [
    {
     "data": {
      "image/png": "[encoded data removed]",
      "text/plain": [
       "<matplotlib.figure.Figure at 0x1991ad54940>"
      ]
     },
     "metadata": {},
     "output_type": "display_data"
    }
   ],
   "source": [
    "#  可以再透過xticks與yticks來設置刻度顯示\n",
    "plt.scatter(x,\n",
    "            y, \n",
    "            label='Test', \n",
    "            color='red', \n",
    "            s=25,     \n",
    "            marker=\"o\")\n",
    "plt.xlim(0,max(x)+1)  #  x軸的座標軸範圍\n",
    "plt.ylim(0,max(y)+1)  #  y軸的座標軸範圍\n",
    "plt.xlabel('xlabel')  #  產生x軸的標籤\n",
    "plt.ylabel('ylabel')  #  產生y軸的標籤\n",
    "plt.title('Title')  #  產生圖面的標題\n",
    "plt.xticks(()) #  隱藏x軸刻度\n",
    "plt.yticks(()) #  隱藏y軸刻度\n",
    "plt.legend(loc='upper right')  #  圖標_右上那個test\n",
    "plt.grid()  #  顯示網格\n",
    "plt.show()  #  產生圖面"
   ]
  },
  {
   "cell_type": "code",
   "execution_count": 28,
   "metadata": {},
   "outputs": [
    {
     "data": {
      "image/png": "[encoded data removed]",
      "text/plain": [
       "<matplotlib.figure.Figure at 0x1991a92d7b8>"
      ]
     },
     "metadata": {},
     "output_type": "display_data"
    }
   ],
   "source": [
    "#  可以利用plt.text在圖表(axes)上設置註解，透過x、y軸設置位置\n",
    "#  此例在x=1、y=2的地方加上abc說明\n",
    "plt.scatter(x,\n",
    "            y, \n",
    "            label='Test', \n",
    "            color='red', \n",
    "            s=25,     \n",
    "            marker=\"o\")\n",
    "plt.xlim(0,max(x)+1)  #  x軸的座標軸範圍\n",
    "plt.ylim(0,max(y)+1)  #  y軸的座標軸範圍\n",
    "plt.xlabel('xlabel')  #  產生x軸的標籤\n",
    "plt.ylabel('ylabel')  #  產生y軸的標籤\n",
    "plt.title('Title')  #  產生圖面的標題\n",
    "plt.text(1,2,'abc',fontsize = 12)  #  在圖表(axes)上加上註解\n",
    "plt.legend(loc='upper right')  #  圖標_右上那個test\n",
    "plt.grid()  #  顯示網格\n",
    "plt.show()  #  產生圖面"
   ]
  },
  {
   "cell_type": "code",
   "execution_count": 37,
   "metadata": {},
   "outputs": [
    {
     "data": {
      "image/png": "[encoded data removed]",
      "text/plain": [
       "<matplotlib.figure.Figure at 0x1991a8cfcf8>"
      ]
     },
     "metadata": {},
     "output_type": "display_data"
    }
   ],
   "source": [
    "#  可以利用plt.figtext在figure上設置說明\n",
    "plt.scatter(x,\n",
    "            y, \n",
    "            label='Test', \n",
    "            color='red', \n",
    "            s=25,     \n",
    "            marker=\"o\")\n",
    "plt.xlim(0,max(x)+1)  #  x軸的座標軸範圍\n",
    "plt.ylim(0,max(y)+1)  #  y軸的座標軸範圍\n",
    "plt.xlabel('xlabel')  #  產生x軸的標籤\n",
    "plt.ylabel('ylabel')  #  產生y軸的標籤\n",
    "plt.title('Title')  #  產生圖面的標題\n",
    "plt.figtext(1,1,'ABC',ha='right',va='bottom')\n",
    "plt.legend(loc='upper right')  #  圖標_右上那個test\n",
    "plt.grid()  #  顯示網格\n",
    "plt.show()  #  產生圖面"
   ]
  },
  {
   "cell_type": "code",
   "execution_count": null,
   "metadata": {
    "collapsed": true
   },
   "outputs": [],
   "source": [
    "\n"
   ]
  },
  {
   "cell_type": "code",
   "execution_count": null,
   "metadata": {
    "collapsed": true
   },
   "outputs": [],
   "source": []
  }
 ],
 "metadata": {
  "kernelspec": {
   "display_name": "Python 3",
   "language": "python",
   "name": "python3"
  },
  "language_info": {
   "codemirror_mode": {
    "name": "ipython",
    "version": 3
   },
   "file_extension": ".py",
   "mimetype": "text/x-python",
   "name": "python",
   "nbconvert_exporter": "python",
   "pygments_lexer": "ipython3",
   "version": "3.6.1"
  }
 },
 "nbformat": 4,
 "nbformat_minor": 2
}
