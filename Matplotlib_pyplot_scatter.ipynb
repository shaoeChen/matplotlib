{
 "cells": [
  {
   "cell_type": "markdown",
   "metadata": {},
   "source": [
    "載入需求套件"
   ]
  },
  {
   "cell_type": "code",
   "execution_count": 1,
   "metadata": {
    "collapsed": true
   },
   "outputs": [],
   "source": [
    "import numpy as np\n",
    "import matplotlib.pyplot as plt\n",
    "\n",
    "%matplotlib inline"
   ]
  },
  {
   "cell_type": "markdown",
   "metadata": {},
   "source": [
    "建立資料：  \n",
    "* `np.linspace(start, stop, num)`，在start與stop之間產生num筆資料\n",
    "* `np.random.rand`，亂數產生100筆資料"
   ]
  },
  {
   "cell_type": "code",
   "execution_count": 2,
   "metadata": {
    "collapsed": true
   },
   "outputs": [],
   "source": [
    "x = np.linspace(0.01, 20, 100)\n",
    "y = np.random.rand(100)"
   ]
  },
  {
   "cell_type": "markdown",
   "metadata": {},
   "source": [
    "首先，先認識最基本的參數說明：  \n",
    "`plt.scatter()`，繪製散佈圖：  \n",
    "1. x: x軸資料\n",
    "2. y: y軸資料\n",
    "3. c: 點的顏色\n",
    "4. lw: 點的大小\n",
    "5. label: 這圖的標記(需搭配`plt.legend`才會顯示)\n",
    "\n",
    "`plt.legend(loc=)`，顯示label，利用參數`loc`設置位置  \n",
    "`plt.show()`，顯示圖表，但是在jupyter中如果利用`%matplotlib inline`設置就可以在不執行該指令也可以顯示圖表"
   ]
  },
  {
   "cell_type": "code",
   "execution_count": 6,
   "metadata": {},
   "outputs": [
    {
     "data": {
      "image/png": "[encoded data removed]",
      "text/plain": [
       "<matplotlib.figure.Figure at 0x189ab0a6c18>"
      ]
     },
     "metadata": {},
     "output_type": "display_data"
    }
   ],
   "source": [
    "plt.scatter(x, y, c='red', lw=2, label='sample scatter')\n",
    "plt.legend(loc='best')\n",
    "plt.show()"
   ]
  },
  {
   "cell_type": "markdown",
   "metadata": {},
   "source": [
    "動手做做看：  \n",
    "2. 設置`c='blue'`，觀察點的顏色變化\n",
    "3. 設置`lw=5`，觀察點的變化"
   ]
  },
  {
   "cell_type": "markdown",
   "metadata": {},
   "source": [
    "散佈圖可以觀察資料之間的關係，在利用`PCA`或`t-SNE`降維資料至二維，或非監督式學習觀察資料集群的時候非常實用"
   ]
  }
 ],
 "metadata": {
  "kernelspec": {
   "display_name": "Python 3",
   "language": "python",
   "name": "python3"
  },
  "language_info": {
   "codemirror_mode": {
    "name": "ipython",
    "version": 3
   },
   "file_extension": ".py",
   "mimetype": "text/x-python",
   "name": "python",
   "nbconvert_exporter": "python",
   "pygments_lexer": "ipython3",
   "version": "3.6.1"
  }
 },
 "nbformat": 4,
 "nbformat_minor": 2
}
