{
 "cells": [
  {
   "cell_type": "markdown",
   "metadata": {},
   "source": [
    "載入需求套件"
   ]
  },
  {
   "cell_type": "code",
   "execution_count": 1,
   "metadata": {
    "collapsed": true
   },
   "outputs": [],
   "source": [
    "import numpy as np\n",
    "import matplotlib.pyplot as plt\n",
    "\n",
    "%matplotlib inline"
   ]
  },
  {
   "cell_type": "markdown",
   "metadata": {},
   "source": [
    "建立資料：  \n",
    "* `np.linspace(start, stop, num)`，在start與stop之間產生num筆資料"
   ]
  },
  {
   "cell_type": "code",
   "execution_count": 4,
   "metadata": {
    "collapsed": true
   },
   "outputs": [],
   "source": [
    "x = np.linspace(1, 10, 10)\n",
    "y = np.linspace(2, 20, 10)"
   ]
  },
  {
   "cell_type": "markdown",
   "metadata": {},
   "source": [
    "首先，先認識最基本的參數說明：  \n",
    "`plt.bar()`，繪製柱狀圖：  \n",
    "1. left: x軸資料\n",
    "2. height : y軸資料\n",
    "4. color: bar的顏色\n",
    "5. tick_label: x軸的顯示標記\n",
    "6. hatch: bar內的圖示\n",
    "7. align: 置中或靠邊線\n",
    "\n",
    "`plt.legend(loc=)`，顯示label，利用參數`loc`設置位置  \n",
    "`plt.show()`，顯示圖表，但是在jupyter中如果利用`%matplotlib inline`設置就可以在不執行該指令也可以顯示圖表"
   ]
  },
  {
   "cell_type": "code",
   "execution_count": 5,
   "metadata": {},
   "outputs": [
    {
     "data": {
      "image/png": "[encoded data removed]",
      "text/plain": [
       "<matplotlib.figure.Figure at 0x203cdaeb908>"
      ]
     },
     "metadata": {},
     "output_type": "display_data"
    }
   ],
   "source": [
    "plt.barh(x, y, color='r', tick_label=['a','b','c','d','e','f','g','h','i','j'], hatch='\\\\', align='center')\n",
    "plt.xlabel('x data')\n",
    "plt.ylabel('y data')\n",
    "plt.show()"
   ]
  },
  {
   "cell_type": "markdown",
   "metadata": {},
   "source": [
    "動手做做看：  \n",
    "1. 試著將`tick_label`調整為其它值，觀察它的變化，記得長度需符合你`x`的數量\n",
    "2. 將`hatch`調整為`o`，看bar內會變什麼樣\n",
    "3. 將`align`調整為`edge`，瞭解置中與邊緣的差異"
   ]
  },
  {
   "cell_type": "markdown",
   "metadata": {},
   "source": [
    "柱狀圖(bar)把它拉水平就是條形圖，基本上參數上沒有差異，就是觀察的方式從x軸到y軸去了。"
   ]
  }
 ],
 "metadata": {
  "kernelspec": {
   "display_name": "Python 3",
   "language": "python",
   "name": "python3"
  },
  "language_info": {
   "codemirror_mode": {
    "name": "ipython",
    "version": 3
   },
   "file_extension": ".py",
   "mimetype": "text/x-python",
   "name": "python",
   "nbconvert_exporter": "python",
   "pygments_lexer": "ipython3",
   "version": "3.6.1"
  }
 },
 "nbformat": 4,
 "nbformat_minor": 2
}
