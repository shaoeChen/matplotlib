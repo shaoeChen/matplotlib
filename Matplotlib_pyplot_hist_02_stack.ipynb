{
 "cells": [
  {
   "cell_type": "markdown",
   "metadata": {},
   "source": [
    "載入需求套件"
   ]
  },
  {
   "cell_type": "code",
   "execution_count": 2,
   "metadata": {
    "collapsed": true
   },
   "outputs": [],
   "source": [
    "import numpy as np\n",
    "import matplotlib.pyplot as plt\n",
    "\n",
    "%matplotlib inline"
   ]
  },
  {
   "cell_type": "markdown",
   "metadata": {},
   "source": [
    "建立資料：  \n",
    "* `np.random.randint(low, high, size)`，在low、high之間產生size維度的資料"
   ]
  },
  {
   "cell_type": "code",
   "execution_count": 3,
   "metadata": {},
   "outputs": [],
   "source": [
    "x1 = np.random.randint(0, 100, 200)\n",
    "x2 = np.random.randint(0, 100, 100)\n",
    "bins = range(0, 101, 10)"
   ]
  },
  {
   "cell_type": "markdown",
   "metadata": {},
   "source": [
    "首先，先認識最基本的參數說明：  \n",
    "`plt.hist()`，繪製直方圖：  \n",
    "1. x: 資料\n",
    "2. bins: 每一根直方圖的區間或個數，並非只能給予等距的區間，也可以不等距。\n",
    "3. color: 柱的顏色\n",
    "4. histtype: 柱的類型，'bar', 'barstacked', 'step',  'stepfilled'\n",
    "5. rwidth: 柱的寬度\n",
    "6. label: 圖例說明\n",
    "\n",
    "`plt.legend(loc=)`，顯示label，利用參數`loc`設置位置  \n",
    "`plt.show()`，顯示圖表，但是在jupyter中如果利用`%matplotlib inline`設置就可以在不執行該指令也可以顯示圖表"
   ]
  },
  {
   "cell_type": "markdown",
   "metadata": {},
   "source": [
    "與柱狀圖一樣，直方圖也可以堆疊，方法也是類似。"
   ]
  },
  {
   "cell_type": "code",
   "execution_count": 10,
   "metadata": {},
   "outputs": [
    {
     "data": {
      "image/png": "[encoded data removed]",
      "text/plain": [
       "<matplotlib.figure.Figure at 0x27efbb35128>"
      ]
     },
     "metadata": {},
     "output_type": "display_data"
    }
   ],
   "source": [
    "plt.hist([x1, x2], bins, color=['r', 'b'], histtype='bar', rwidth=1, alpha=0.5, edgecolor='black', stacked=True, label=['x1', 'x2'])\n",
    "plt.xlabel('x data')\n",
    "plt.ylabel('y data')\n",
    "plt.legend(loc='best')\n",
    "plt.show()"
   ]
  },
  {
   "cell_type": "markdown",
   "metadata": {},
   "source": [
    "動手做做看：  \n",
    "1. 試著將stacked設置為False, 看看變成併排的圖表是什麼樣子"
   ]
  },
  {
   "cell_type": "markdown",
   "metadata": {},
   "source": [
    "直方的堆疊與柱狀作法類似，只要stacked設置為False就是一個併排的圖表，記得試試"
   ]
  }
 ],
 "metadata": {
  "kernelspec": {
   "display_name": "Python 3",
   "language": "python",
   "name": "python3"
  },
  "language_info": {
   "codemirror_mode": {
    "name": "ipython",
    "version": 3
   },
   "file_extension": ".py",
   "mimetype": "text/x-python",
   "name": "python",
   "nbconvert_exporter": "python",
   "pygments_lexer": "ipython3",
   "version": "3.6.1"
  }
 },
 "nbformat": 4,
 "nbformat_minor": 2
}
