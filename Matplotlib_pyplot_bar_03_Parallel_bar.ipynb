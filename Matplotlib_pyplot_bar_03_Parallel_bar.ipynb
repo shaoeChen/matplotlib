{
 "cells": [
  {
   "cell_type": "markdown",
   "metadata": {},
   "source": [
    "載入需求套件"
   ]
  },
  {
   "cell_type": "code",
   "execution_count": 1,
   "metadata": {
    "collapsed": true
   },
   "outputs": [],
   "source": [
    "import numpy as np\n",
    "import matplotlib.pyplot as plt\n",
    "\n",
    "%matplotlib inline"
   ]
  },
  {
   "cell_type": "markdown",
   "metadata": {},
   "source": [
    "建立資料：  \n",
    "* `np.linspace(start, stop, num)`，在start與stop之間產生num筆資料"
   ]
  },
  {
   "cell_type": "code",
   "execution_count": 4,
   "metadata": {
    "collapsed": true
   },
   "outputs": [],
   "source": [
    "x = np.linspace(1, 10, 5)\n",
    "y = np.linspace(2, 20, 5)\n",
    "y1 = np.linspace(2, 50, 5)"
   ]
  },
  {
   "cell_type": "markdown",
   "metadata": {},
   "source": [
    "首先，先認識最基本的參數說明：  \n",
    "`plt.bar()`，繪製柱狀圖：  \n",
    "1. left: x軸資料\n",
    "2. height : y軸資料\n",
    "3. width: bar的寬度\n",
    "4. color: bar的顏色\n",
    "5. tick_label: x軸的顯示標記\n",
    "6. hatch: bar內的圖示\n",
    "7. align: 置中或靠邊線\n",
    "\n",
    "`plt.legend(loc=)`，顯示label，利用參數`loc`設置位置  \n",
    "`plt.show()`，顯示圖表，但是在jupyter中如果利用`%matplotlib inline`設置就可以在不執行該指令也可以顯示圖表"
   ]
  },
  {
   "cell_type": "markdown",
   "metadata": {},
   "source": [
    "並列柱狀圖只是很巧妙的利用寬的設置推擠而成，見下範例："
   ]
  },
  {
   "cell_type": "code",
   "execution_count": 10,
   "metadata": {
    "collapsed": true
   },
   "outputs": [],
   "source": [
    "width = 0.5\n",
    "tick_labels = ['a', 'b', 'c', 'd', 'e']"
   ]
  },
  {
   "cell_type": "code",
   "execution_count": 13,
   "metadata": {},
   "outputs": [
    {
     "data": {
      "image/png": "[encoded data removed]",
      "text/plain": [
       "<matplotlib.figure.Figure at 0x1b0a7b597f0>"
      ]
     },
     "metadata": {},
     "output_type": "display_data"
    }
   ],
   "source": [
    "plt.bar(x, y , width=width, color='r', align='center', label='y', hatch='\\\\')\n",
    "# 第二個直柱圖加上寬來做推擠\n",
    "plt.bar(x + width, y1, width=width, color='b', align='center', label='y1', hatch='--')\n",
    "plt.xlabel('x data')\n",
    "plt.ylabel('y data')\n",
    "# 利用xticks來設置x軸的label\n",
    "plt.xticks(x + width/2, tick_labels)\n",
    "plt.legend()\n",
    "plt.show()"
   ]
  },
  {
   "cell_type": "markdown",
   "metadata": {},
   "source": [
    "動手做做看：  \n",
    "1. 試著取消`plt.xticks`觀察未設置之前的變化\n",
    "2. 試著將第二個直柱圖的width直接以10來取消，瞭解推擠的作用"
   ]
  },
  {
   "cell_type": "markdown",
   "metadata": {},
   "source": [
    "平行直柱圖可以將兩個相同類型但也許不同時期的資料一起比較，不同年份的每一月業績或是不同班的科目，非常直觀。"
   ]
  }
 ],
 "metadata": {
  "kernelspec": {
   "display_name": "Python 3",
   "language": "python",
   "name": "python3"
  },
  "language_info": {
   "codemirror_mode": {
    "name": "ipython",
    "version": 3
   },
   "file_extension": ".py",
   "mimetype": "text/x-python",
   "name": "python",
   "nbconvert_exporter": "python",
   "pygments_lexer": "ipython3",
   "version": "3.6.1"
  }
 },
 "nbformat": 4,
 "nbformat_minor": 2
}
