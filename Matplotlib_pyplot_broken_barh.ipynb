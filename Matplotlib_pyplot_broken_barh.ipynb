{
 "cells": [
  {
   "cell_type": "markdown",
   "metadata": {},
   "source": [
    "載入需求套件"
   ]
  },
  {
   "cell_type": "code",
   "execution_count": 1,
   "metadata": {
    "collapsed": true
   },
   "outputs": [],
   "source": [
    "import numpy as np\n",
    "import matplotlib.pyplot as plt\n",
    "\n",
    "%matplotlib inline"
   ]
  },
  {
   "cell_type": "markdown",
   "metadata": {},
   "source": [
    "建立資料"
   ]
  },
  {
   "cell_type": "markdown",
   "metadata": {},
   "source": [
    "`broken_barh`的資料建立是這樣的，list內的tuple，tuple[0]是起始值，tuple[1]是加多少"
   ]
  },
  {
   "cell_type": "code",
   "execution_count": 25,
   "metadata": {
    "collapsed": true
   },
   "outputs": [],
   "source": [
    "machine_1 = [(10, 20), (40, 10), (60, 10), (100, 20)]"
   ]
  },
  {
   "cell_type": "markdown",
   "metadata": {},
   "source": [
    "首先，先認識最基本的參數說明：  \n",
    "`plt.broken_barh()`，繪製間斷柱狀圖：  \n",
    "1. xranges: x軸的區間資料，list提供，如上`machine_1`\n",
    "2. yrange: y軸的區間寬符，tuple\n",
    "\n",
    "`plt.legend(loc=)`，顯示label，利用參數`loc`設置位置  \n",
    "`plt.show()`，顯示圖表，但是在jupyter中如果利用`%matplotlib inline`設置就可以在不執行該指令也可以顯示圖表"
   ]
  },
  {
   "cell_type": "code",
   "execution_count": 26,
   "metadata": {},
   "outputs": [
    {
     "data": {
      "text/plain": [
       "<matplotlib.collections.BrokenBarHCollection at 0x1a077a69780>"
      ]
     },
     "execution_count": 26,
     "metadata": {},
     "output_type": "execute_result"
    },
    {
     "data": {
      "image/png": "[encoded data removed]",
      "text/plain": [
       "<matplotlib.figure.Figure at 0x1a0779ee400>"
      ]
     },
     "metadata": {},
     "output_type": "display_data"
    }
   ],
   "source": [
    "plt.broken_barh(machine_1, (20, 10))"
   ]
  },
  {
   "cell_type": "markdown",
   "metadata": {},
   "source": [
    "上面範例可以看的到  \n",
    "xranges:\n",
    "1. tuple[0]:10，tuple[1]:20，因此是10到30\n",
    "2. tuple[0]:40，tuple[1]:10，因此是40到50\n",
    "3. tuple[0]:60，tuple[1]:10，因此是60到70\n",
    "4. tuple[0]:100，tuple[1]:20，因此是100到120\n",
    "\n",
    "yrange:\n",
    "* tuple[0]:20，tuple[1]:10，因此是20到30"
   ]
  },
  {
   "cell_type": "markdown",
   "metadata": {},
   "source": [
    "動手做做看：  \n",
    "1. 試著再加入第二個broken_barh圖形，觀察兩個broken_barh在一個圖表上的呈現，是否像是排程。\n",
    "2. 試著自己利用參數`facecolors`來設置每一個block的顏色"
   ]
  },
  {
   "cell_type": "code",
   "execution_count": 27,
   "metadata": {
    "collapsed": true
   },
   "outputs": [],
   "source": [
    "machine_2 = [(30, 20), (70, 10), (90, 10), (120, 20)]"
   ]
  },
  {
   "cell_type": "code",
   "execution_count": 28,
   "metadata": {},
   "outputs": [
    {
     "data": {
      "image/png": "[encoded data removed]",
      "text/plain": [
       "<matplotlib.figure.Figure at 0x1a077a77208>"
      ]
     },
     "metadata": {},
     "output_type": "display_data"
    }
   ],
   "source": [
    "plt.broken_barh(machine_1, (10, 5))\n",
    "plt.broken_barh(machine_2, (20, 5))\n",
    "plt.show()"
   ]
  },
  {
   "cell_type": "markdown",
   "metadata": {},
   "source": [
    "`broken_barh`是一種bar圖，但是它可以區間的呈現，也許你排機台排程的時候可以用這個來試一下。"
   ]
  }
 ],
 "metadata": {
  "kernelspec": {
   "display_name": "Python 3",
   "language": "python",
   "name": "python3"
  },
  "language_info": {
   "codemirror_mode": {
    "name": "ipython",
    "version": 3
   },
   "file_extension": ".py",
   "mimetype": "text/x-python",
   "name": "python",
   "nbconvert_exporter": "python",
   "pygments_lexer": "ipython3",
   "version": "3.6.1"
  }
 },
 "nbformat": 4,
 "nbformat_minor": 2
}
