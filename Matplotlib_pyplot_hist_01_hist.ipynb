{
 "cells": [
  {
   "cell_type": "markdown",
   "metadata": {},
   "source": [
    "載入需求套件"
   ]
  },
  {
   "cell_type": "code",
   "execution_count": 1,
   "metadata": {
    "collapsed": true
   },
   "outputs": [],
   "source": [
    "import numpy as np\n",
    "import matplotlib.pyplot as plt\n",
    "\n",
    "%matplotlib inline"
   ]
  },
  {
   "cell_type": "markdown",
   "metadata": {},
   "source": [
    "建立資料：  \n",
    "* `np.random.randint(low, high, size)`，在low、high之間產生size維度的資料"
   ]
  },
  {
   "cell_type": "code",
   "execution_count": 2,
   "metadata": {
    "collapsed": true
   },
   "outputs": [],
   "source": [
    "x = np.random.randint(0, 100, 200)\n",
    "bins = range(0, 101, 10)"
   ]
  },
  {
   "cell_type": "markdown",
   "metadata": {},
   "source": [
    "首先，先認識最基本的參數說明：  \n",
    "`plt.hist()`，繪製直方圖：  \n",
    "1. x: 資料\n",
    "2. bins: 每一根直方圖的區間或個數，並非只能給予等距的區間，也可以不等距。\n",
    "3. color: 柱的顏色\n",
    "4. histtype: 柱的類型，'bar', 'barstacked', 'step',  'stepfilled'\n",
    "5. rwidth: 柱的寬度\n",
    "\n",
    "`plt.legend(loc=)`，顯示label，利用參數`loc`設置位置  \n",
    "`plt.show()`，顯示圖表，但是在jupyter中如果利用`%matplotlib inline`設置就可以在不執行該指令也可以顯示圖表"
   ]
  },
  {
   "cell_type": "code",
   "execution_count": 24,
   "metadata": {},
   "outputs": [
    {
     "data": {
      "image/png": "[encoded data removed]",
      "text/plain": [
       "<matplotlib.figure.Figure at 0x23c986f1978>"
      ]
     },
     "metadata": {},
     "output_type": "display_data"
    }
   ],
   "source": [
    "plt.hist(x, bins, color='r', histtype='bar', rwidth=1, alpha=0.5, edgecolor='black')\n",
    "plt.xlabel('x data')\n",
    "plt.ylabel('y data')\n",
    "plt.show()"
   ]
  },
  {
   "cell_type": "markdown",
   "metadata": {},
   "source": [
    "動手做做看：  \n",
    "1. 試著將bins參數直接賦值5，觀察圖表的變化。\n",
    "2. 試著將color設置為其它顏色，觀察圖表的變化。\n",
    "3. 試著調整rwidth，看寬度的變化。\n",
    "4. 試著給bins不等距的list，觀察圖表的變化。"
   ]
  },
  {
   "cell_type": "markdown",
   "metadata": {},
   "source": [
    "直方與bar圖看起來很像，但又不是那麼像，最直接的差異就是直方圖是連續的，而bar是中間有一個空隔，因此，也會有人說直方是適合應用於連續型數據資料。  \n",
    "怎麼說，比方說我們想要比較一個班級的成績或不同店的業績，想像參數x就是分數，而bins就是我們希望觀察的區間群組設置。"
   ]
  }
 ],
 "metadata": {
  "kernelspec": {
   "display_name": "Python 3",
   "language": "python",
   "name": "python3"
  },
  "language_info": {
   "codemirror_mode": {
    "name": "ipython",
    "version": 3
   },
   "file_extension": ".py",
   "mimetype": "text/x-python",
   "name": "python",
   "nbconvert_exporter": "python",
   "pygments_lexer": "ipython3",
   "version": "3.6.1"
  }
 },
 "nbformat": 4,
 "nbformat_minor": 2
}
